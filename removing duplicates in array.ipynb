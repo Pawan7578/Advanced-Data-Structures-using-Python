{
 "cells": [
  {
   "cell_type": "code",
   "execution_count": 3,
   "id": "bc6eddff-0ce1-4d1b-b344-908759de3bde",
   "metadata": {},
   "outputs": [
    {
     "name": "stdout",
     "output_type": "stream",
     "text": [
      "[3, 4, 2, 7, 8, 5]\n"
     ]
    }
   ],
   "source": [
    "#using for in loop\n",
    "import numpy as np\n",
    "x=np.array([3,4,2,7,8,4,5,5,5])\n",
    "def remove_duplicates(x):\n",
    "    new_arr=[]\n",
    "    for i in x:\n",
    "        if i not in new_arr:\n",
    "            new_arr.append(i)\n",
    "    return new_arr\n",
    "result=remove_duplicates(x)\n",
    "print(result)"
   ]
  },
  {
   "cell_type": "code",
   "execution_count": 23,
   "id": "b4742cab-e98d-4431-b70e-15eef006e95d",
   "metadata": {},
   "outputs": [
    {
     "name": "stdout",
     "output_type": "stream",
     "text": [
      "[2 3 4 5 7 8]\n",
      "<class 'numpy.ndarray'>\n"
     ]
    }
   ],
   "source": [
    "# using set method\n",
    "import numpy as np\n",
    "x=np.array([3,4,2,7,8,4,5,5,5])\n",
    "y=list(set(x))\n",
    "new_array=np.array(y)\n",
    "print(new_array)\n",
    "print(type(new_array))"
   ]
  },
  {
   "cell_type": "code",
   "execution_count": 25,
   "id": "d289401d-6123-40a9-ad9e-6a0a47cab0cf",
   "metadata": {},
   "outputs": [
    {
     "data": {
      "text/plain": [
       "array([2, 3, 4, 5, 7, 8])"
      ]
     },
     "execution_count": 25,
     "metadata": {},
     "output_type": "execute_result"
    }
   ],
   "source": [
    "import numpy as np\n",
    "x=np.array([3,4,2,7,8,4,5,5,5])\n",
    "def remove_duplicates(x):\n",
    "    unique_elements=list(set(x))\n",
    "    return np.array(unique_elements)\n",
    "remove_duplicates(x)"
   ]
  },
  {
   "cell_type": "code",
   "execution_count": null,
   "id": "156ca96e-471f-4f6f-a05d-09c879755683",
   "metadata": {},
   "outputs": [],
   "source": []
  }
 ],
 "metadata": {
  "kernelspec": {
   "display_name": "Python 3 (ipykernel)",
   "language": "python",
   "name": "python3"
  },
  "language_info": {
   "codemirror_mode": {
    "name": "ipython",
    "version": 3
   },
   "file_extension": ".py",
   "mimetype": "text/x-python",
   "name": "python",
   "nbconvert_exporter": "python",
   "pygments_lexer": "ipython3",
   "version": "3.12.4"
  }
 },
 "nbformat": 4,
 "nbformat_minor": 5
}
