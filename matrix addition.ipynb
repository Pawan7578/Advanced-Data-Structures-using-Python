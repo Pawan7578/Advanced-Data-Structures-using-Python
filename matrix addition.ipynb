{
 "cells": [
  {
   "cell_type": "code",
   "execution_count": 3,
   "id": "cea3d5a1-9e28-432f-afb6-f970258e872c",
   "metadata": {},
   "outputs": [
    {
     "data": {
      "text/plain": [
       "array([[11, 22, 33],\n",
       "       [44, 55, 66],\n",
       "       [77, 88, 99]])"
      ]
     },
     "execution_count": 3,
     "metadata": {},
     "output_type": "execute_result"
    }
   ],
   "source": [
    "import numpy as np\n",
    "arr1=np.array([\n",
    "    [1,2,3], [4,5,6], [7,8,9] ])\n",
    "arr2=np.array([\n",
    "    [10,20,30], [40,50,60], [70,80,90] ])\n",
    "result = arr1+arr2\n",
    "result"
   ]
  },
  {
   "cell_type": "code",
   "execution_count": 5,
   "id": "71058d80-259e-4f02-90d3-8daef2fe7715",
   "metadata": {},
   "outputs": [
    {
     "name": "stdout",
     "output_type": "stream",
     "text": [
      "[[11, 22, 33], [44, 55, 66], [77, 88, 99]]\n"
     ]
    }
   ],
   "source": [
    "import numpy as np\n",
    "arr1=np.array([\n",
    "    [1,2,3], [4,5,6], [7,8,9] ])\n",
    "arr2=np.array([\n",
    "    [10,20,30], [40,50,60], [70,80,90] ])\n",
    "result=[]\n",
    "for i in range(len(arr1)):\n",
    "    row=[]\n",
    "    for j in range(len(arr1[0])):\n",
    "        row.append(arr1[i,j]+arr2[i,j])\n",
    "    result.append(row)\n",
    "print(result)"
   ]
  },
  {
   "cell_type": "code",
   "execution_count": null,
   "id": "d9d671e2-fd59-4c05-a77c-e588fc304f52",
   "metadata": {},
   "outputs": [],
   "source": []
  }
 ],
 "metadata": {
  "kernelspec": {
   "display_name": "Python 3 (ipykernel)",
   "language": "python",
   "name": "python3"
  },
  "language_info": {
   "codemirror_mode": {
    "name": "ipython",
    "version": 3
   },
   "file_extension": ".py",
   "mimetype": "text/x-python",
   "name": "python",
   "nbconvert_exporter": "python",
   "pygments_lexer": "ipython3",
   "version": "3.12.4"
  }
 },
 "nbformat": 4,
 "nbformat_minor": 5
}
