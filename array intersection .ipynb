{
 "cells": [
  {
   "cell_type": "code",
   "execution_count": 1,
   "id": "4bcee3c7-db7f-48df-8eef-50ab30ddc6e3",
   "metadata": {},
   "outputs": [
    {
     "name": "stdout",
     "output_type": "stream",
     "text": [
      "[4, 5]\n"
     ]
    }
   ],
   "source": [
    "def find_intersection(arr1, arr2):\n",
    "    set1 = set(arr1)\n",
    "    set2 = set(arr2)\n",
    "    intersection = set1 & set2\n",
    "    return list(intersection)\n",
    "array1 = [1, 2, 3, 4, 5]\n",
    "array2 = [4, 5, 6, 7, 8]\n",
    "common_elements = find_intersection(array1, array2)\n",
    "print(common_elements)"
   ]
  },
  {
   "cell_type": "code",
   "execution_count": 15,
   "id": "71edba94-cedd-462f-b985-28f80ae7ba0e",
   "metadata": {},
   "outputs": [
    {
     "name": "stdout",
     "output_type": "stream",
     "text": [
      "[20 30]\n",
      "<class 'numpy.ndarray'>\n"
     ]
    }
   ],
   "source": [
    "#using numpy\n",
    "import numpy as np\n",
    "x1=np.array([10,20,30,90])\n",
    "x2=np.array([20,30,100,0])\n",
    "def arr_common(x1,x2):\n",
    "  new_arr=[]\n",
    "  for i in x1:\n",
    "    if i in x2:\n",
    "      new_arr.append(i)\n",
    "  return np.array(new_arr)\n",
    "print(arr_common(x1,x2))\n",
    "print(type(arr_common(x1,x2)))"
   ]
  },
  {
   "cell_type": "code",
   "execution_count": null,
   "id": "d3c624ab-fa13-4700-af25-9d249e5173c0",
   "metadata": {},
   "outputs": [],
   "source": []
  }
 ],
 "metadata": {
  "kernelspec": {
   "display_name": "Python 3 (ipykernel)",
   "language": "python",
   "name": "python3"
  },
  "language_info": {
   "codemirror_mode": {
    "name": "ipython",
    "version": 3
   },
   "file_extension": ".py",
   "mimetype": "text/x-python",
   "name": "python",
   "nbconvert_exporter": "python",
   "pygments_lexer": "ipython3",
   "version": "3.12.4"
  }
 },
 "nbformat": 4,
 "nbformat_minor": 5
}
