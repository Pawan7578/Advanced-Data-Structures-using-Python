{
 "cells": [
  {
   "cell_type": "code",
   "execution_count": 17,
   "id": "eff45783-4f9b-42bf-b509-c5ed45d8d07d",
   "metadata": {},
   "outputs": [
    {
     "name": "stdin",
     "output_type": "stream",
     "text": [
      "Enter value:  1\n",
      "Continue? (y/n):  y\n",
      "Enter value:  2\n",
      "Continue? (y/n):  y\n",
      "Enter value:  3\n",
      "Continue? (y/n):  4\n"
     ]
    },
    {
     "name": "stdout",
     "output_type": "stream",
     "text": [
      "The list is:\n",
      "1 --> 2 --> 3 --> None\n"
     ]
    }
   ],
   "source": [
    "class Node:\n",
    "    def __init__(self, data):\n",
    "        self.data = data\n",
    "        self.next = None\n",
    "\n",
    "class SinglyLinkedList:\n",
    "    def __init__(self):\n",
    "        self.head = None  \n",
    "\n",
    "    def createList(self):\n",
    "        value = int(input(\"Enter value: \"))\n",
    "        self.head = Node(value)  \n",
    "        cur = self.head  \n",
    "\n",
    "        while True:\n",
    "            ch = input(\"Continue? (y/n): \").strip().lower()\n",
    "            if ch == 'y':\n",
    "                value = int(input(\"Enter value: \"))\n",
    "                cur.next = Node(value) \n",
    "                cur = cur.next \n",
    "            else:\n",
    "                break\n",
    "\n",
    "    def display(self):\n",
    "        curNode = self.head\n",
    "        while curNode is not None:\n",
    "            print(curNode.data, end=\" --> \")\n",
    "            curNode = curNode.next\n",
    "        print(\"None\")\n",
    "\n",
    "\n",
    "head = SinglyLinkedList()\n",
    "head.createList()\n",
    "print(\"The list is:\")\n",
    "head.display()"
   ]
  },
  {
   "cell_type": "code",
   "execution_count": null,
   "id": "b023417a-8c51-4d7f-9fdf-26084e0297c7",
   "metadata": {},
   "outputs": [],
   "source": []
  }
 ],
 "metadata": {
  "kernelspec": {
   "display_name": "Python 3 (ipykernel)",
   "language": "python",
   "name": "python3"
  },
  "language_info": {
   "codemirror_mode": {
    "name": "ipython",
    "version": 3
   },
   "file_extension": ".py",
   "mimetype": "text/x-python",
   "name": "python",
   "nbconvert_exporter": "python",
   "pygments_lexer": "ipython3",
   "version": "3.12.4"
  }
 },
 "nbformat": 4,
 "nbformat_minor": 5
}
