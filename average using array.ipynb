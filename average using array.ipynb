{
 "cells": [
  {
   "cell_type": "code",
   "execution_count": 3,
   "id": "adecfb42-8929-42fb-b8ce-45904a3c5869",
   "metadata": {},
   "outputs": [
    {
     "name": "stdout",
     "output_type": "stream",
     "text": [
      "Sum: 34\n",
      "Average: 4.857142857142857\n",
      "<class 'array.array'>\n"
     ]
    }
   ],
   "source": [
    "import array as ar \n",
    "x=ar.array('i',[3,5,2,7,8,4,5])\n",
    "x_sum=sum(x)\n",
    "print(\"Sum:\",x_sum)\n",
    "length=len(x)   #len--->for getting total number of element\n",
    "average=x_sum/length\n",
    "print(\"Average:\",average)\n",
    "print(type(x))"
   ]
  },
  {
   "cell_type": "code",
   "execution_count": 5,
   "id": "0c3c2d95-571c-473c-8b1e-abb841297e07",
   "metadata": {},
   "outputs": [
    {
     "name": "stdout",
     "output_type": "stream",
     "text": [
      "Sum: 33\n",
      "Average: 4.714285714285714\n",
      "<class 'numpy.ndarray'>\n"
     ]
    }
   ],
   "source": [
    "import numpy as np\n",
    "x=np.array([3,4,2,7,8,4,5])\n",
    "x_sum=sum(x)\n",
    "print(\"Sum:\",x_sum)\n",
    "length=len(x)   #len--->for getting total number of element\n",
    "average=x_sum/length\n",
    "print(\"Average:\",average)\n",
    "print(type(x))"
   ]
  },
  {
   "cell_type": "code",
   "execution_count": null,
   "id": "44ed30a1-13a8-46c9-857e-c404ecd7a8d6",
   "metadata": {},
   "outputs": [],
   "source": []
  }
 ],
 "metadata": {
  "kernelspec": {
   "display_name": "Python 3 (ipykernel)",
   "language": "python",
   "name": "python3"
  },
  "language_info": {
   "codemirror_mode": {
    "name": "ipython",
    "version": 3
   },
   "file_extension": ".py",
   "mimetype": "text/x-python",
   "name": "python",
   "nbconvert_exporter": "python",
   "pygments_lexer": "ipython3",
   "version": "3.12.4"
  }
 },
 "nbformat": 4,
 "nbformat_minor": 5
}
