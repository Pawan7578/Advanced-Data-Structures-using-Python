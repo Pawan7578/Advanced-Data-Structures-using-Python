{
 "cells": [
  {
   "cell_type": "code",
   "execution_count": 9,
   "id": "da848668-b2c2-4dbd-b4ac-e857ed3d682b",
   "metadata": {},
   "outputs": [],
   "source": [
    "import numpy as np"
   ]
  },
  {
   "cell_type": "code",
   "execution_count": 3,
   "id": "1e0390eb-6244-4c24-808f-ce6874767806",
   "metadata": {},
   "outputs": [
    {
     "name": "stdout",
     "output_type": "stream",
     "text": [
      "Zeros:\n",
      " [[0. 0. 0.]\n",
      " [0. 0. 0.]]\n",
      "Ones:\n",
      " [[1. 1.]\n",
      " [1. 1.]\n",
      " [1. 1.]]\n"
     ]
    }
   ],
   "source": [
    "#Zero() and Ones()\n",
    "y=np.zeros((2,3))\n",
    "print(\"Zeros:\\n\",y)\n",
    "z=np.ones((3,2))\n",
    "print(\"Ones:\\n\",z)"
   ]
  },
  {
   "cell_type": "code",
   "execution_count": 5,
   "id": "a77b7e07-87cc-4441-89f0-97e82dcca992",
   "metadata": {},
   "outputs": [
    {
     "name": "stdout",
     "output_type": "stream",
     "text": [
      "[[10.+0.j 20.+0.j 30.+0.j]\n",
      " [40.+0.j 50.+0.j 60.+0.j]\n",
      " [70.+0.j 80.+0.j 90.+0.j]]\n"
     ]
    }
   ],
   "source": [
    "x=np.array([\n",
    "    [10,20,30],\n",
    "    [40,50,60],\n",
    "    [70,80,90]],dtype = complex)\n",
    "\n",
    "print(x)"
   ]
  },
  {
   "cell_type": "code",
   "execution_count": 7,
   "id": "d3a1cfd3-ef1b-4ffd-bbf7-818a0d7f67b7",
   "metadata": {},
   "outputs": [
    {
     "name": "stdout",
     "output_type": "stream",
     "text": [
      "[[(1, 1.) (1, 1.) (1, 1.)]\n",
      " [(1, 1.) (1, 1.) (1, 1.)]\n",
      " [(1, 1.) (1, 1.) (1, 1.)]]\n"
     ]
    }
   ],
   "source": [
    "z=np.ones((3,3), dtype=[('m','int'),('n','float')])\n",
    "print(z)"
   ]
  },
  {
   "cell_type": "code",
   "execution_count": 13,
   "id": "77f4a807-1f86-4800-a2e1-11f789b3cd1a",
   "metadata": {},
   "outputs": [
    {
     "name": "stdout",
     "output_type": "stream",
     "text": [
      "1 2 3 \n",
      "4 5 6 \n",
      "7 8 9 \n"
     ]
    }
   ],
   "source": [
    "x=np.array([\n",
    "    [1,2,3],\n",
    "    [4,5,6],\n",
    "    [7,8,9] ])\n",
    "for i in x:\n",
    "    for j in i:\n",
    "        print(j,end=\" \")\n",
    "    print()"
   ]
  },
  {
   "cell_type": "code",
   "execution_count": 15,
   "id": "d4ace9f8-f6f6-4abe-9cbf-c43bbc0cebe3",
   "metadata": {},
   "outputs": [
    {
     "name": "stdout",
     "output_type": "stream",
     "text": [
      "Row 0 :  [1 2 3]\n",
      "Row 1 :  [4 5 6]\n",
      "Row 2 :  [7 8 9]\n"
     ]
    }
   ],
   "source": [
    "x=np.array([\n",
    "    [1,2,3],\n",
    "    [4,5,6],\n",
    "    [7,8,9] ])\n",
    "print(\"Row 0 : \",x[0])\n",
    "print(\"Row 1 : \",x[1])\n",
    "print(\"Row 2 : \",x[2])"
   ]
  },
  {
   "cell_type": "code",
   "execution_count": 17,
   "id": "b34a3a50-14e0-4d3c-84d6-8432e5a91f79",
   "metadata": {},
   "outputs": [
    {
     "name": "stdout",
     "output_type": "stream",
     "text": [
      "[[7 8 9]\n",
      " [4 5 6]\n",
      " [1 2 3]]\n"
     ]
    }
   ],
   "source": [
    "print(x[::-1])"
   ]
  },
  {
   "cell_type": "code",
   "execution_count": null,
   "id": "1167e5f6-7b83-47f4-afac-99c1518ebf51",
   "metadata": {},
   "outputs": [],
   "source": []
  }
 ],
 "metadata": {
  "kernelspec": {
   "display_name": "Python 3 (ipykernel)",
   "language": "python",
   "name": "python3"
  },
  "language_info": {
   "codemirror_mode": {
    "name": "ipython",
    "version": 3
   },
   "file_extension": ".py",
   "mimetype": "text/x-python",
   "name": "python",
   "nbconvert_exporter": "python",
   "pygments_lexer": "ipython3",
   "version": "3.12.4"
  }
 },
 "nbformat": 4,
 "nbformat_minor": 5
}
